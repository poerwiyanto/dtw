{
 "cells": [
  {
   "cell_type": "code",
   "execution_count": null,
   "id": "be9aaf3b-a5d4-490e-8365-155e6cbd874c",
   "metadata": {},
   "outputs": [],
   "source": [
    "from dtw import dtw, fastdtw\n",
    "import numpy as np\n",
    "import pandas as pd\n",
    "import time"
   ]
  },
  {
   "cell_type": "code",
   "execution_count": null,
   "id": "10114ea3-bd7b-41af-ab89-e4d6126a4386",
   "metadata": {},
   "outputs": [],
   "source": [
    "stats = {\n",
    "    'DTW distance': [],\n",
    "    'DTW time': [],\n",
    "    'DTW with global constraint distance': [],\n",
    "    'DTW with global constraint time': [],\n",
    "    'Fast DTW distance': [],\n",
    "    'Fast DTW time': []\n",
    "}\n",
    "\n",
    "for i in range(101):\n",
    "    # x = np.array([0, 2, 0, 1, 0, 0], dtype=np.float_)\n",
    "    # y = np.array([0, 0, 0.5, 2, 0, 1, 0], dtype=np.float_)\n",
    "    # x = np.array([[0, 2], [0, 1], [0, 0], [0, 1]], dtype=np.float_)\n",
    "    # y = np.array([[0, 0], [0.5, 2], [0, 1], [0, 1]], dtype=np.float_)\n",
    "    x, y = np.random.rand(10000), np.random.rand(10000)\n",
    "\n",
    "    start = time.time()\n",
    "    stats['DTW distance'].append(dtw(x, y)[0])\n",
    "    stats['DTW time'].append(time.time() - start)\n",
    "\n",
    "    start = time.time()\n",
    "    stats['DTW with global constraint distance'].append(dtw(x, y, global_constraint='sakoe_chiba', r=3)[0])\n",
    "    stats['DTW with global constraint time'].append(time.time() - start)\n",
    "\n",
    "    start = time.time()\n",
    "    stats['Fast DTW distance'].append(fastdtw(x, y, r=3)[0])\n",
    "    stats['Fast DTW time'].append(time.time() - start)"
   ]
  },
  {
   "cell_type": "code",
   "execution_count": null,
   "id": "27bff859-3b21-4215-97e1-7498dbbf3768",
   "metadata": {},
   "outputs": [],
   "source": [
    "stats = pd.DataFrame(stats)\n",
    "stats['DTW with global constraint diff'] = stats['DTW with global constraint distance'] - stats['DTW distance']\n",
    "stats['Fast DTW diff'] = stats['Fast DTW distance'] - stats['DTW distance']\n",
    "stats.drop(columns=['DTW with global constraint distance', 'Fast DTW distance'], inplace=True)\n",
    "stats.iloc[1:].describe()"
   ]
  },
  {
   "cell_type": "code",
   "execution_count": null,
   "id": "3ddb25b9-7ca7-4754-b67c-e7accdaf272a",
   "metadata": {},
   "outputs": [],
   "source": []
  }
 ],
 "metadata": {
  "kernelspec": {
   "display_name": "Python 3 (ipykernel)",
   "language": "python",
   "name": "python3"
  },
  "language_info": {
   "codemirror_mode": {
    "name": "ipython",
    "version": 3
   },
   "file_extension": ".py",
   "mimetype": "text/x-python",
   "name": "python",
   "nbconvert_exporter": "python",
   "pygments_lexer": "ipython3",
   "version": "3.7.13"
  }
 },
 "nbformat": 4,
 "nbformat_minor": 5
}
